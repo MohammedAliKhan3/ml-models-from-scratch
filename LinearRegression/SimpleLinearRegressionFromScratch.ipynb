{
 "cells": [
  {
   "cell_type": "markdown",
   "id": "ad9fdd7e",
   "metadata": {},
   "source": [
    "# Simple Linear Regression from Scratch\n",
    "A step-by-step implementation of linear regression using the normal equation without relying on scikit-learn.  \n",
    "This project includes:\n",
    "- Matrix operations (transpose, multiplication)\n",
    "- Normal equation calculation\n",
    "- Model prediction\n",
    "- Error evaluation with RMSE and R²\n",
    "- Train-test split evaluation\n"
   ]
  },
  {
   "cell_type": "markdown",
   "id": "2371f1fd",
   "metadata": {},
   "source": [
    "## Setup and Imports\n",
    "Import necessary libraries and modules used in the notebook.\n"
   ]
  },
  {
   "cell_type": "code",
   "execution_count": 2,
   "id": "7318b5da",
   "metadata": {},
   "outputs": [],
   "source": [
    "import numpy as np\n",
    "import pandas as pd\n",
    "from sklearn.model_selection import train_test_split\n",
    "from sklearn.metrics import r2_score\n",
    "import math\n"
   ]
  },
  {
   "cell_type": "code",
   "execution_count": 1,
   "id": "945ead69",
   "metadata": {},
   "outputs": [],
   "source": [
    "# Finding transpose of the independent variable X.\n",
    "def transpose_of_matrix(x):\n",
    "    rows_x = len(x) \n",
    "    cols_x = len(x[0])\n",
    "    transpose_x = [[0 for _ in range(rows_x)] for _ in range(cols_x)]\n",
    "\n",
    "    for i in range(rows_x):\n",
    "        for j in range(cols_x):\n",
    "            transpose_x[j][i] = x[i][j]\n",
    "    \n",
    "    return transpose_x\n",
    "\n",
    "# Finding product of two matrices.\n",
    "def matix_product(x,y):\n",
    "\n",
    "    # matrix x dimensions.\n",
    "    rows_x = len(x)\n",
    "    cols_x = len(x[0])\n",
    "\n",
    "    # matrix y dimensions.\n",
    "    rows_y = len(y)\n",
    "    cols_y = len(y[0])\n",
    "\n",
    "    if cols_x != rows_y:\n",
    "        raise ValueError(\"Rows of 1st matrix must be equal to columns of 2nd matrix for multiplication.\")\n",
    "    \n",
    "    # Initialization of product matrix. \n",
    "    product_matrix = [[0 for _ in range(cols_y)] for _ in range(rows_x)]\n",
    "\n",
    "    # multiplication Logic.\n",
    "    for i in range(rows_x):\n",
    "        for j in range(cols_y):\n",
    "            for k in range(cols_x):\n",
    "                product_matrix[i][j] += x[i][k] * y[k][j]\n",
    "\n",
    "    return product_matrix\n"
   ]
  },
  {
   "cell_type": "markdown",
   "id": "04c7b081",
   "metadata": {},
   "source": [
    "## Adds an intercept term (a column of 1's) to the feature matrix X.\n",
    " This allows the linear regression model to learn the intercept (bias) coefficient.\n",
    "\n",
    " For example, if X is:\n",
    "   [[x11],\n",
    "    [x21],\n",
    "    [x31]]\n",
    "\n",
    " After adding intercept, it becomes:\n",
    "   [[1, x11],\n",
    "    [1, x21],\n",
    "    [1, x31]]\n",
    "\n",
    " This transforms the feature matrix to include the bias term β0 in the model:\n",
    "   y = β0*1 + β1*x1"
   ]
  },
  {
   "cell_type": "code",
   "execution_count": 20,
   "id": "13149aaa",
   "metadata": {},
   "outputs": [],
   "source": [
    "def add_intercept(X):\n",
    "    return [[1] + row for row in X]\n"
   ]
  },
  {
   "cell_type": "markdown",
   "id": "90bfaed1",
   "metadata": {},
   "source": [
    "## Normal Equation\n",
    "Calculate the beta coefficients using the normal equation: β = (XᵀX)^(-1)Xᵀy\n"
   ]
  },
  {
   "cell_type": "code",
   "execution_count": null,
   "id": "f46cc0bb",
   "metadata": {},
   "outputs": [],
   "source": [
    "import numpy as np\n",
    "\n",
    "def normal_equation(X, y):\n",
    "    \n",
    "    \"\"\"\n",
    "    Computes beta using the normal equation:\n",
    "    β = (X^T X)^(-1) X^T y\n",
    "    \"\"\"\n",
    "\n",
    "    # Ensure y is a column vector\n",
    "    if isinstance(y[0], (int, float)):\n",
    "        y = [[value] for value in y]\n",
    "    \n",
    "    # Transpose of X\n",
    "    X_T = transpose_of_matrix(X)\n",
    "\n",
    "    # Gram matrix: X^T X\n",
    "    gram_matrix = matix_product(X_T, X)\n",
    "\n",
    "    # Inverse of Gram matrix\n",
    "    gram_matrix_inv = np.linalg.inv(gram_matrix)\n",
    "\n",
    "    # X^T y\n",
    "    X_T_y = matix_product(X_T, y)\n",
    "\n",
    "    # Beta coefficients: (X^T X)^(-1) X^T y\n",
    "    beta = matix_product(gram_matrix_inv, X_T_y)\n",
    "\n",
    "    return beta    "
   ]
  },
  {
   "cell_type": "markdown",
   "id": "2519975f",
   "metadata": {},
   "source": [
    "## Prediction Function\n",
    "Using the beta coefficients to predict target values for input features.\n"
   ]
  },
  {
   "cell_type": "code",
   "execution_count": 13,
   "id": "9bf40af5",
   "metadata": {},
   "outputs": [],
   "source": [
    "def predict(x, y):\n",
    "    # Get learned coefficients (beta vector) from normal equation\n",
    "    beta = normal_equation(x, y)  \n",
    "    \n",
    "    predictions = []\n",
    "    \n",
    "    # For each sample in X\n",
    "    for row in x:\n",
    "        # Dot product of features and coefficients\n",
    "        pred = 0\n",
    "        for feature, coef in zip(row, [b[0] for b in beta]):  # beta is a column vector\n",
    "            pred += feature * coef\n",
    "        predictions.append(pred)\n",
    "    \n",
    "    return predictions"
   ]
  },
  {
   "cell_type": "markdown",
   "id": "ee4af847",
   "metadata": {},
   "source": [
    "## Error Metrics\n",
    "Calculate Root Mean Squared Error (RMSE) and R-squared (R²) to evaluate model performance.\n"
   ]
  },
  {
   "cell_type": "code",
   "execution_count": 14,
   "id": "8da70718",
   "metadata": {},
   "outputs": [],
   "source": [
    "import math\n",
    "\n",
    "def error_rmse(prediction, y):\n",
    "    # Sum of squared errors\n",
    "    sse = 0\n",
    "    for i in range(len(y)):\n",
    "        sse += (y[i] - prediction[i]) ** 2\n",
    "    \n",
    "    # Mean squared error\n",
    "    mse = sse / len(y)\n",
    "    \n",
    "    # Root mean squared error\n",
    "    rmse = math.sqrt(mse)\n",
    "    return rmse\n"
   ]
  },
  {
   "cell_type": "markdown",
   "id": "1b6c690c",
   "metadata": {},
   "source": [
    "## Data Loading and Preprocessing\n",
    "Load the dataset and prepare feature and target variables.\n"
   ]
  },
  {
   "cell_type": "code",
   "execution_count": 15,
   "id": "8b1cd742",
   "metadata": {},
   "outputs": [],
   "source": [
    "dataframe = pd.read_csv('Salary_dataset.csv')\n",
    "\n",
    "x = dataframe[['YearsExperience']].values.tolist()\n",
    "y = dataframe['Salary'].values.tolist()\n",
    "\n"
   ]
  },
  {
   "cell_type": "markdown",
   "id": "712ddcdf",
   "metadata": {},
   "source": [
    "## Train-Test Split\n",
    "Split data into training and testing sets for model validation.\n"
   ]
  },
  {
   "cell_type": "code",
   "execution_count": 16,
   "id": "8931cc9f",
   "metadata": {},
   "outputs": [],
   "source": [
    "x_train, x_test, y_train, y_test = train_test_split(x, y, test_size=0.2, random_state=42)\n",
    "\n"
   ]
  },
  {
   "cell_type": "markdown",
   "id": "9a8967a1",
   "metadata": {},
   "source": [
    "## Model Training\n",
    "Calculate beta coefficients using the training data.\n"
   ]
  },
  {
   "cell_type": "code",
   "execution_count": 21,
   "id": "4b8d6df9",
   "metadata": {},
   "outputs": [],
   "source": [
    "x_train_intercept = add_intercept(x_train)\n",
    "beta = normal_equation(x_train_intercept, y_train)\n",
    "\n"
   ]
  },
  {
   "cell_type": "markdown",
   "id": "3ae3b1c2",
   "metadata": {},
   "source": [
    "## Prediction and Evaluation\n",
    "Predict on test data and evaluate model performance using RMSE and R².\n"
   ]
  },
  {
   "cell_type": "code",
   "execution_count": 22,
   "id": "376c1934",
   "metadata": {},
   "outputs": [
    {
     "name": "stdout",
     "output_type": "stream",
     "text": [
      "R² score on test set: 0.9024461774180498\n",
      "RMSE on test set: 7059.043621901507\n"
     ]
    }
   ],
   "source": [
    "x_test_intercept = add_intercept(x_test)\n",
    "prediction = predict(x_test_intercept, beta)\n",
    "\n",
    "r2 = r2_score(y_test, prediction)\n",
    "rmse = error_rmse(prediction, y_test)\n",
    "\n",
    "print(\"R² score on test set:\", r2)\n",
    "print(\"RMSE on test set:\", rmse)\n",
    "\n"
   ]
  },
  {
   "cell_type": "markdown",
   "id": "e94b604a",
   "metadata": {},
   "source": [
    "## Conclusion\n",
    "- Summarize results and model performance.\n",
    "- Discuss potential improvements or next steps, such as:\n",
    "  - Adding more features\n",
    "  - Implementing gradient descent\n",
    "  - Comparing with scikit-learn’s LinearRegression\n"
   ]
  },
  {
   "cell_type": "code",
   "execution_count": 19,
   "id": "b302ee69",
   "metadata": {},
   "outputs": [
    {
     "name": "stdout",
     "output_type": "stream",
     "text": [
      "Beta coefficients:\n",
      "Intercept: 24380.20147947379\n",
      "Coefficient for feature 1: 9423.815323030962\n",
      "\n",
      "R² score on test set: 0.9024\n",
      "RMSE on test set: 7059.0436\n"
     ]
    }
   ],
   "source": [
    "import pandas as pd\n",
    "from sklearn.model_selection import train_test_split\n",
    "from sklearn.metrics import r2_score\n",
    "import numpy as np\n",
    "import math\n",
    "\n",
    "# -------- Matrix Operations --------\n",
    "def transpose_of_matrix(x):\n",
    "    rows_x = len(x) \n",
    "    cols_x = len(x[0])\n",
    "    transpose_x = [[0 for _ in range(rows_x)] for _ in range(cols_x)]\n",
    "    for i in range(rows_x):\n",
    "        for j in range(cols_x):\n",
    "            transpose_x[j][i] = x[i][j]\n",
    "    return transpose_x\n",
    "\n",
    "def matrix_product(x, y):\n",
    "    rows_x = len(x)\n",
    "    cols_x = len(x[0])\n",
    "    rows_y = len(y)\n",
    "    cols_y = len(y[0])\n",
    "\n",
    "    if cols_x != rows_y:\n",
    "        raise ValueError(\"Rows of 1st matrix must be equal to columns of 2nd matrix for multiplication.\")\n",
    "    \n",
    "    product_matrix = [[0 for _ in range(cols_y)] for _ in range(rows_x)]\n",
    "\n",
    "    for i in range(rows_x):\n",
    "        for j in range(cols_y):\n",
    "            for k in range(cols_x):\n",
    "                product_matrix[i][j] += x[i][k] * y[k][j]\n",
    "\n",
    "    return product_matrix\n",
    "\n",
    "# -------- Add intercept term (bias) --------\n",
    "def add_intercept(X):\n",
    "    return [[1] + row for row in X]\n",
    "\n",
    "# -------- Normal Equation --------\n",
    "def normal_equation(X, y):\n",
    "    # y to column vector if needed\n",
    "    if isinstance(y[0], (int, float)):\n",
    "        y = [[value] for value in y]\n",
    "\n",
    "    X_T = transpose_of_matrix(X)\n",
    "    gram_matrix = matrix_product(X_T, X)\n",
    "    gram_matrix_np = np.array(gram_matrix)\n",
    "    gram_matrix_inv = np.linalg.inv(gram_matrix_np).tolist()\n",
    "    X_T_y = matrix_product(X_T, y)\n",
    "    beta = matrix_product(gram_matrix_inv, X_T_y)\n",
    "    return beta  # list of lists shape (n_features, 1)\n",
    "\n",
    "# -------- Prediction --------\n",
    "def predict(X, beta):\n",
    "    predictions = []\n",
    "    beta_flat = [b[0] for b in beta]  # flatten beta\n",
    "    for row in X:\n",
    "        pred = 0\n",
    "        for feature, coef in zip(row, beta_flat):\n",
    "            pred += feature * coef\n",
    "        predictions.append(pred)\n",
    "    return predictions\n",
    "\n",
    "# -------- Error metrics --------\n",
    "def error_rmse(prediction, y):\n",
    "    sse = 0\n",
    "    for i in range(len(y)):\n",
    "        sse += (prediction[i] - y[i]) ** 2\n",
    "    mse = sse / len(y)\n",
    "    rmse = math.sqrt(mse)\n",
    "    return rmse\n",
    "\n",
    "# -------- Main workflow --------\n",
    "if __name__ == \"__main__\":\n",
    "    dataframe = pd.read_csv('Salary_dataset.csv')\n",
    "\n",
    "    x = dataframe[['YearsExperience']].values.tolist()\n",
    "    y = dataframe['Salary'].values.tolist()\n",
    "\n",
    "    x_train, x_test, y_train, y_test = train_test_split(x, y, test_size=0.2, random_state=42)\n",
    "\n",
    "    # Add intercept term\n",
    "    x_train_intercept = add_intercept(x_train)\n",
    "    x_test_intercept = add_intercept(x_test)\n",
    "\n",
    "    # Get beta coefficients from training data\n",
    "    beta = normal_equation(x_train_intercept, y_train)\n",
    "\n",
    "    # Predict on test data\n",
    "    prediction = predict(x_test_intercept, beta)\n",
    "\n",
    "    # Evaluate model\n",
    "    r2 = r2_score(y_test, prediction)\n",
    "    rmse = error_rmse(prediction, y_test)\n",
    "\n",
    "    print(\"Beta coefficients:\")\n",
    "    for i, b in enumerate(beta):\n",
    "        if i == 0:\n",
    "            print(f\"Intercept: {b[0]}\")\n",
    "        else:\n",
    "            print(f\"Coefficient for feature {i}: {b[0]}\")\n",
    "\n",
    "    print(f\"\\nR² score on test set: {r2:.4f}\")\n",
    "    print(f\"RMSE on test set: {rmse:.4f}\")\n"
   ]
  },
  {
   "cell_type": "code",
   "execution_count": null,
   "id": "bd5f6f12",
   "metadata": {},
   "outputs": [],
   "source": []
  }
 ],
 "metadata": {
  "kernelspec": {
   "display_name": "base",
   "language": "python",
   "name": "python3"
  },
  "language_info": {
   "codemirror_mode": {
    "name": "ipython",
    "version": 3
   },
   "file_extension": ".py",
   "mimetype": "text/x-python",
   "name": "python",
   "nbconvert_exporter": "python",
   "pygments_lexer": "ipython3",
   "version": "3.12.7"
  }
 },
 "nbformat": 4,
 "nbformat_minor": 5
}
